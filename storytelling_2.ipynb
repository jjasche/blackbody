{
 "cells": [
  {
   "cell_type": "markdown",
   "metadata": {},
   "source": [
    "We left our detective while he/she was reading about blackbody radiation. Advances in knowledge are ahead...let's continue reading the diary:\n",
    "\n",
    "*Day 72*\n",
    "\n",
    "Ok, I went through my past measurements. I have measured the radiation emitted by each star I have visited during my journey, as a function of wavelength. I have made graphs of these spectra and I am looking at these graphs now...let me see if I can find any clues that can help me.\n",
    "These curves all seem very similar to each other, indeed. The shape is the same, only…the curves corresponding to stars with lower temperatures are shorter…\n",
    "\n",
    "*Day 73, early morning*\n",
    "\n",
    "Look! Their peaks, where the radiation is at the maximum! There seems to be a trend there…what if I report on a graph the wavelength of each peak and the corresponding temperature of the star?"
   ]
  }
 ],
 "metadata": {
  "kernelspec": {
   "display_name": "Python 2",
   "language": "python",
   "name": "python2"
  },
  "language_info": {
   "codemirror_mode": {
    "name": "ipython",
    "version": 2
   },
   "file_extension": ".py",
   "mimetype": "text/x-python",
   "name": "python",
   "nbconvert_exporter": "python",
   "pygments_lexer": "ipython2",
   "version": "2.7.14"
  }
 },
 "nbformat": 4,
 "nbformat_minor": 2
}
