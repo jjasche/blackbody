{
 "cells": [
  {
   "cell_type": "markdown",
   "metadata": {},
   "source": [
    "# Towards Wien's displacement law\n",
    "\n",
    "We finally approached the Milky Way (HAL told me that I should stop calling it 'milky-something'. 'Accuracy is important in science!' HAL told me. Well, what can I say? HAL was right!). Ok, I thought, we are done. 'HAL! Just tell me, temperature, radius and luminosity of all these stars'. 'No, Qfwfq, I don't have an answer to this question. The only thing I can give you is this file. It contains a lot of data. Those data are thermal spectra emitted by warm bodies at different temperatures. Have you ever heard of 'blackbody radiation', Qfwfq?'.\n",
    "\n",
    "HERE WE COULD PUT A SCIENCE BOX WITH INFO ABOUT BLACKBODY RADIATION"
   ]
  },
  {
   "cell_type": "markdown",
   "metadata": {},
   "source": [
    "So, HAL told me that warm bodies emitt radiation with a peculiar spectrum. In other words, the shape of the energy emitted as a function of the wavelength is a particular shape, called blackbody. The interesting thing is that, if one considers bodies at different temperatures, the blackbody spectrum has always the same overall shape, but the amplitude and the maximum of the different spectra are different. \n",
    "You can imagine how frustrated I was. I got to know where my friend was! I wanted to find this damn sun and I was stucked there with a bunch of spectra emitted by different objects (didn't I tell you that? It's not only stars that emit a blackbody radiation!). 'HAL, what am I supposed to do with that? The only thing I can make is to see how these peaks change with the temperature'. 'That is agood starting point, Qfwfq' said HAL, 'why don't you try to see where those curves peak and summarise this information on a graph?'.\n",
    "\n",
    "HERE THEY COULD WORK OUT GRAPHICALLY THE WIEN'S DISPLACEMENT LAW"
   ]
  }
 ],
 "metadata": {
  "kernelspec": {
   "display_name": "Python 2",
   "language": "python",
   "name": "python2"
  },
  "language_info": {
   "codemirror_mode": {
    "name": "ipython",
    "version": 2
   },
   "file_extension": ".py",
   "mimetype": "text/x-python",
   "name": "python",
   "nbconvert_exporter": "python",
   "pygments_lexer": "ipython2",
   "version": "2.7.14"
  }
 },
 "nbformat": 4,
 "nbformat_minor": 2
}
