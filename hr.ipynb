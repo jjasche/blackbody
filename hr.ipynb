{
 "cells": [
  {
   "cell_type": "markdown",
   "metadata": {},
   "source": [
    "<div class=\"alert alert-block alert-success\" markdown=\"1\">\n",
    "\n",
    "<h1> Hertzsprung-Russell diagram and the evolution of stars </h1>\n",
    "\n",
    "<img src=\"./visual_arts/real_time_stellar_evolution.gif\" width=\"80%\">\n",
    "\n",
    "<p style='text-align: justify;'>\n",
    "You might not have realised it yet. Just take a few seconds to think how powerful this blackbody stuff is.\n",
    "\n",
    "I was really impressed at the time. I started from a bunch of spectra from warm iron plates and ended up measuring the temperature of stars! Cool, right? But hold on, because the coolest part has yet to come. Remember I had just worked out the temperature of three different classes of stars simply by measuring their thermal spectra and looking at what wavelength those spectra had at their maximum intensity, then using this information in the Wien's displacement law.\n",
    "\n",
    "'Qfwfq, why are you so frustrated?' HAL told me. And indeed I was frustrated.'Just focus, Qfwfq. Why don't you search the literature? You know, when you are a researcher, learning from past studies could be as important as doing new things by yourself.'. Of course, HAL was right. 'HAL, could you please open that book <font color=\"blue\">[PUT REF HERE?]</font> for me?'. It was a very nice book, and I learnt more details about something they used to teach me at school:\n",
    "\n",
    "the energy emitted by a star is proportional to some power of its temperature and of its radius. If you don't know it, I suggest you read about the Stefan-Boltzmann law!\n",
    "</p>\n",
    "\n",
    "<p> <a href=\"#science_box\">\n",
    "(If you want to learn more about the science click here)</a>.</p>\n",
    "\n",
    "\n",
    "<p style='text-align: justify;'>\n",
    "And I'll tell you a secret: you might think that this law applies to these giant objects -- stars -- in the galaxy, but this law is deeply rooted in quantum physics... \n",
    "\n",
    "Can you believe it? You can use a result based on the physics of the smallest things in our Universe to classify the largest objects in our galaxies! \n",
    "\n",
    "<font color=\"blue\"> Clarify following text </font>\n",
    "Yes, classify I said, because you can do the following: once you know the temperature of a star and the luminosity of a star (you can measure it with some appropriate tools), you can draw it as a point in the so-called Hertzsprung-Russell diagram. 'The HR diagram', HAL told me, 'has the temperature on the x-axis and the luminosity on the y-axis. I can tell you the luminosity of the stars you measured before. Put those stars in the diagram and look. Stars occupy only specific regions of that diagram.' And, you know what? From the Stefan-Boltzmann law, it isn't that hard to compute the radius of the star, once you know their temperature and luminosity...\n",
    "</p>\n",
    "\n",
    "\n",
    "<h1> Bakgrund </h1>\n",
    "<p>\n",
    "Hertzsprung-Russell diagram är ett diagram som skapades utifrån observerade stjärnor och deras egenskaper (ljusstyrka, radie och massa). Den visar ett mönster som stjärnor faller in i när en placerar dem i en graf som visar luminositet (ett mått på hur ljusstarkt något är) mot temperaturen av objektet (som vi tidigare har visat är starkt kopplat till vilken färg stjärnan har, eller hur?)\n",
    "</p>\n",
    "\n",
    "<p>\n",
    "Igen, precis som med svartkroppsstrålning, så är relationen mellan luminositeten, temperaturen och radien av stjärnan baserat på kvantmekaniska fenomen. Det är alltså väldigt komplicerade fenomen som ligger bakom denna ekvation - kan vara svårt att tro!\n",
    "</p>\n",
    "\n",
    "<p>\n",
    "Tillbaka till HR-diagrammet, som ni kan se så kan stjärnorna organiseras in i tre olika regioner. Notera att stjärnorna INTE tillbringar hela sin “livstid” i en region, utan rör sig mellan regionerna:\n",
    "</p>\n",
    "\n",
    "<p>\n",
    "<b>Huvudserien (main sequence)</b> - här tillbringar stjärnorna största delen av sin livstid. Det som kännetecknar dessa stjärnor är att de omvandlar väte till helium i sina kärnor (via fusion).\n",
    "</p>\n",
    "\n",
    "<p>\n",
    "<b>Jättar och superjättar (Giants/Supergiants)</b> - de stjärnor som, efter att ha förvandlat all sin väte till helium i kärnan, fortsätter att ha energi för att lysa, faller in i jätte- eller superjättekategorin. Dessa stjärnor lever på sluttampen av sin livstid.\n",
    "</p>\n",
    "\n",
    "<p>\n",
    "<b>Vita dvärgar (white dwarfs)</b> - dessa svagt lysande stjärnor är de stjärnor som inte har tillräckligt med energi för att byggas upp till bli jättar, utan istället svalnar av och till sist slutar lysa överhuvudtaget.\n",
    "</p>\n",
    "<h1> Instruktioner </h1>\n",
    "<p>\n",
    "Din uppgift att är bestämma var på HR-diagrammet stjärnorna från förra kapitlet hör hemma.\n",
    "</p>\n",
    "\n",
    "<p>\n",
    "Temperaturen har du räknat ut i förra kapitlet och luminositeten (ljusstyrkan) inkluderas automatiskt när du skriver in temperatur-värdena.\n",
    "</p>\n",
    "\n",
    "<p>\n",
    "Var på diagrammet platsar stjärnorna? I vilka grupper skulle du dela in dem i?\n",
    "</p>\n",
    "\n",
    "<p>\n",
    "BONUS: Kan du även uppskatta vilken radie stjärnorna har?\n",
    "</p>\n",
    "\n",
    "<h1> It's your turn now! </h1>\n",
    "\n",
    "You have computed the temperature of three stars in the previous Chapter. Given their luminosity, see where they sit in the HR diagram below.\n",
    "\n",
    "<font color=\"blue\"> Maybe we have to adjust the instruction to the quest below!</font>\n",
    "\n",
    "<p>Once you are done, go to <a href=\"Interlude.ipynb\">\n",
    "[Chapter 4]</a>.</p>\n",
    "\n",
    "</div>"
   ]
  },
  {
   "cell_type": "code",
   "execution_count": 1,
   "metadata": {},
   "outputs": [
    {
     "name": "stdout",
     "output_type": "stream",
     "text": [
      "Enter the value of the temperature of the first star (Kelvin)\n"
     ]
    },
    {
     "data": {
      "application/vnd.jupyter.widget-view+json": {
       "model_id": "40eb6b3106404c4bb03ba52de7f8b90e",
       "version_major": 2,
       "version_minor": 0
      },
      "text/plain": [
       "FloatText(value=0.0)"
      ]
     },
     "metadata": {},
     "output_type": "display_data"
    },
    {
     "name": "stdout",
     "output_type": "stream",
     "text": [
      "Enter the value of the temperature of the second star (Kelvin)\n"
     ]
    },
    {
     "data": {
      "application/vnd.jupyter.widget-view+json": {
       "model_id": "893f7ed534594e1fb8337839bd7f3cc5",
       "version_major": 2,
       "version_minor": 0
      },
      "text/plain": [
       "FloatText(value=0.0)"
      ]
     },
     "metadata": {},
     "output_type": "display_data"
    },
    {
     "name": "stdout",
     "output_type": "stream",
     "text": [
      "Enter the value of the temperature of the third star (Kelvin)\n"
     ]
    },
    {
     "data": {
      "application/vnd.jupyter.widget-view+json": {
       "model_id": "d0fcde3dbb314b7aa74e02b3b8b4626b",
       "version_major": 2,
       "version_minor": 0
      },
      "text/plain": [
       "FloatText(value=0.0)"
      ]
     },
     "metadata": {},
     "output_type": "display_data"
    },
    {
     "data": {
      "application/vnd.jupyter.widget-view+json": {
       "model_id": "2535b49c7402417f981a3f3303575b17",
       "version_major": 2,
       "version_minor": 0
      },
      "text/plain": [
       "Button(description='Plot stars', style=ButtonStyle())"
      ]
     },
     "metadata": {},
     "output_type": "display_data"
    }
   ],
   "source": [
    "import numpy as np\n",
    "import matplotlib.pylab as plt\n",
    "from src.support import *\n",
    "\n",
    "plt.style.use('seaborn-ticks')\n",
    "\n",
    "%matplotlib inline\n",
    "%config InlineBackend.figure_format = 'retina'\n",
    "\n",
    "L1,L2,L3=get_object_luminosities()\n",
    "\n",
    "T=np.array([5700,6300,3700])\n",
    "L=np.array([L1,L2,L3])\n",
    "\n",
    "\n",
    "\n",
    "#Temperature input\n",
    "from IPython.display import display\n",
    "from ipywidgets import widgets\n",
    "import numpy as np\n",
    "from IPython.display import clear_output\n",
    "\n",
    "print('Enter the value of the temperature of the first star (Kelvin)')\n",
    "star1 = widgets.FloatText()\n",
    "display(star1)\n",
    "\n",
    "print('Enter the value of the temperature of the second star (Kelvin)')\n",
    "star2 = widgets.FloatText()\n",
    "display(star2)\n",
    "\n",
    "print('Enter the value of the temperature of the third star (Kelvin)')\n",
    "star3 = widgets.FloatText()\n",
    "display(star3)\n",
    "\n",
    "button = widgets.Button(description=\"Plot stars\")\n",
    "display(button)\n",
    "\n",
    "\n",
    "def on_button_clicked(b):\n",
    "    T = np.array([star1.value,star2.value,star3.value])\n",
    "    plot_HR(Ls=L,Ts=T)\n",
    "\n",
    "\n",
    "\n",
    "\n",
    "\n",
    "\n",
    "button.on_click(on_button_clicked)"
   ]
  },
  {
   "cell_type": "markdown",
   "metadata": {},
   "source": [
    "<div class=\"alert alert-block alert-success\">\n",
    "\n",
    "\n",
    "<p>Now go to <a href=\"Interlude.ipynb\">\n",
    "[Chapter 4]</a>.</p>\n",
    "\n",
    "</div>"
   ]
  },
  {
   "cell_type": "markdown",
   "metadata": {},
   "source": [
    "<div class=\"alert alert-block alert-danger\" markdown=\"1\">\n",
    "\n",
    "<h1> Summary: What have we learned? </h1>\n",
    "\n",
    "- The luminosity of a star is determined by the star's temperature and radius. \n",
    "- The physics relation between luminosity, temperature and radius is called Stefan-Boltzmann law. As for the blackbody radiation, the Stefan-Boltzmann law is also rooted in quantum physics. Indeed, you can derive the SB law by integrating the Planck spectrum over frequency.\n",
    "- When plotted on a graph with temperature and luminosity on the axes, stars occupy only certain regions of the graph. \n",
    "- This graph is called the Hertzsprung-Russell diagram, and it is a fundamental tool in astrophysics. \n",
    "- The position occupied by a star in the HR diagram depends on the evolutionary stage of the star. In fact, during their evolution, the temperature and radius of a star do change. As a result, stars move around the different regions of the HR diagram during their evolution.\n",
    "\n",
    "</div>\n",
    "\n",
    "<a name=\"science_box\"></a>\n",
    "<div class=\"alert alert-block alert-info\" markdown=\"1\">\n",
    "\n",
    "\n",
    "<h1> Scientific background: Stefan-Boltzmann law</h1>\n",
    "<p style='text-align: justify;'>\n",
    "The Stefan-Boltzmann law is a relation between the power (energy per time unit) emitted by a blackbody and the temperature of the blackbody. If we apply it to the emission of stars, it states that the star luminosity is directly proportional to the fourth power of the surface temperature of the star. The value of the proportionality constant depends on other fundamental constants in nature, such as the Boltzmann constant k*, the Planck constant *h, and the speed of light c. To learn more about the Stefan-Boltzmann law, see the material available on the ESA webpage\n",
    "</p>\n",
    "\n",
    "\\begin{align}\n",
    "B_{\\lambda}(T) & = \\frac{2\\,h\\,c^2}{\\lambda^5(\\mathrm{e}^{\\frac{hc}{2\\lambda\\, k_B\\, T}}-1)}\n",
    "\\end{align}\n",
    "\n",
    "<p style='text-align: justify;'>\n",
    "The law giving the total energy flux or power per unit surface area emitted from a black body at Temperature T can be computed by solving the following integral:\n",
    "</p>\n",
    "\\begin{align}\n",
    "F(T) & = \\pi \\int_0^{\\infty} \\mathrm{d}\\lambda \\, B_{\\lambda}(T) \\\\\n",
    "& = \\sigma_{\\mathrm{SB}}\\, T^4 \\, ,\n",
    "\\end{align}\n",
    "\n",
    "<p style='text-align: justify;'>\n",
    "where the Stefan-Boltzmann constant has a value of $\\sigma_{\\mathrm{SB}}= 5.67\\times 10^{-8} \\,[\\mathrm{W}\\mathrm{m}^{-2}\\mathrm{K}^{-4}]$ (for a detailed derivation of the Stefan-Boltzmann law see e.g. [???]).\n",
    "</p>\n",
    "\n",
    "<p style='text-align: justify;'>\n",
    "The total emitted power $L_{\\star}$ of a spherical star of temperature $T_{\\star}$ and radius radius $R_{\\star}$ can therefore optained by simply multiplying the Stefan-Boltzmann law with the stars surface area $A_{\\star}= 4 \\pi \\, R^2_{\\star}$:\n",
    "</p>\n",
    "<font color='red'>\n",
    "\\begin{align}\n",
    "L_{\\star} & = 4 \\pi \\, R^2_{\\star} \\, \\sigma_{\\mathrm{SB}} \\, T^4_{\\star} \\\\\n",
    "\\end{align}</font>\n",
    "\n",
    "<p style='text-align: justify;'>\n",
    "This remarkable simple equation has pronounced consequences for astronomical observations. It establishes an immediate relation between the observable total emmited power $L_{\\star}$ and temperature $T_{\\star}$ of a star with its size $R_{\\star}$. \n",
    "</p>\n",
    "\n",
    "Astronomers can use this law of stellar radiation to study the properties and the evolution of stars in the galaxy.\n",
    "\n",
    "<h2> The Hertzsprung-Russell diagram and the evolution of stars</h2>\n",
    "<p style='text-align: justify;'>\n",
    "The Hertzsprung-Russell diagram (HR diagram) is one of the most important tools in the study of stellar evolution. Developed independently in the early 1900s by Ejnar Hertzsprung and Henry Norris Russell, it plots the temperature of stars against their luminosity. This is the theoretical HR diagram. Scientists also refer to more observational properties of the stars. In particular, they can plot the colour of stars (or spectral type) against their absolute magnitude. In this case, we talk of the observational HR diagram, also known as a colour-magnitude diagram. Depending on its initial mass, every star goes through specific evolutionary stages dictated by its internal structure and how it produces energy. Each of these stages corresponds to a change in the temperature and luminosity of the star, which can be seen to move to different regions on the HR diagram as it evolves. This reveals the true power of the HR diagram – astronomers can know a star’s internal structure and evolutionary stage simply by determining its position in the diagram.\n",
    "</p>\n",
    "\n",
    "<img src=\"./visual_arts/Hertzsprung-Russel_StarData.png\" width=\"60%\">\n",
    "\n",
    "From the figure, we can identify 3 main regions (or evolutionary stages) of the HR diagram:\n",
    "\n",
    "\n",
    "<ol>\n",
    "<li> <p>The main sequence stretching from the upper left (hot, luminous stars) to the bottom right (cool, faint stars) dominates the HR diagram. It is here that stars spend about 90% of their lives burning hydrogen into helium in their cores. Main sequence stars have a luminosity class labelled V.</p></li>\n",
    "<li> <p>Red giant and supergiant stars (luminosity classes I through III) occupy the regions above the main sequence. They have low surface temperatures and high luminosities. According to the Stefan-Boltzmann law that we have discovered above, means giant and supergiant stars also have large radii. Stars enter this evolutionary stage once they have exhausted the hydrogen fuel in their cores and have started to burn helium and other heavier elements.</p></li>\n",
    "<li> <p>White dwarf stars (luminosity class D) are the final evolutionary stage of low to intermediate mass stars, and are found in the bottom left of the HR diagram. These stars are very hot but have low luminosities due to their small size.</p></li>\n",
    "</ol>\n",
    "\n",
    "\n",
    "<p style='text-align: justify;'>\n",
    "The Sun is found on the main sequence with a luminosity of 1 and a temperature of around 5,400 Kelvin.\n",
    "Astronomers generally use the HR diagram to either summarise the evolution of stars, or to investigate the properties of a collection of stars. In particular, by plotting a HR diagram for either a globular or open cluster of stars, astronomers can estimate the age of the cluster from where stars appear to turnoff the main sequence (see the entry on main sequence for how this works).</p>\n",
    "\n",
    "\n",
    "<a href=\"http://astronomy.swin.edu.au/cosmos/h/hertzsprung-russell+diagram\">\n",
    "text adapted from Swinburne University of Technology</a>\n",
    "\n",
    "\n",
    "also see ESA resources <a href=\"http://sci.esa.int/education/35774-stellar-radiation-stellar-types/?fbodylongid=1703\">\n",
    "here</a> and <a href=\"https://www.cosmos.esa.int/web/cesar/the-hertzsprung-russell-diagram!\">\n",
    "here</a>.\n",
    "\n",
    "More background and motivation of HR diagrams can be found <a href=\"https://www.atnf.csiro.au/outreach/education/senior/astrophysics/stellarevolution_hrintro.html\">\n",
    "here</a>.\n",
    "\n",
    "\n",
    "<h2> Literature </h2>\n",
    "\n",
    "<ol>\n",
    "<li> <p>Some information on Stefan Boltzmann law in astronomy <a href=\"https://www.teachastronomy.com/textbook/Properties-of-Stars/Stefan-Boltzmann-Law/\">\n",
    "https://www.teachastronomy.com/textbook/Properties-of-Stars/Stefan-Boltzmann-Law/</a>.</p></li>\n",
    "<li> <p>Introduction to astronomy <a href=\"http://web.phys.ntnu.no/~mika/skript_astro.pdf\">\n",
    "http://web.phys.ntnu.no/~mika/skript_astro.pdf</a>.</p></li>     \n",
    "</ol>\n",
    "\n",
    "</div>"
   ]
  },
  {
   "cell_type": "code",
   "execution_count": 2,
   "metadata": {},
   "outputs": [
    {
     "data": {
      "text/html": [
       "<script>\n",
       "    // AUTORUN ALL CELLS ON NOTEBOOK-LOAD!\n",
       "    require(\n",
       "        ['base/js/namespace', 'jquery'], \n",
       "        function(jupyter, $) {\n",
       "            $(jupyter.events).on(\"kernel_ready.Kernel\", function () {\n",
       "                console.log(\"Auto-running all cells-below...\");\n",
       "                jupyter.actions.call('jupyter-notebook:run-all-cells-below');\n",
       "                jupyter.actions.call('jupyter-notebook:save-notebook');\n",
       "            });\n",
       "        }\n",
       "    );\n",
       "</script>\n",
       "\n",
       "import warnings\n",
       "warnings.filterwarnings(\"ignore\")\n",
       "\n",
       "from IPython.display import HTML\n",
       "HTML('''<script>\n",
       "code_show=true; \n",
       "function code_toggle() {\n",
       " if (code_show){\n",
       " $('div.input').hide();\n",
       " } else {\n",
       " $('div.input').show();\n",
       " }\n",
       " code_show = !code_show\n",
       "} \n",
       "$( document ).ready(code_toggle);\n",
       "</script>\n",
       "The raw code for this IPython notebook is by default hidden for easier reading.\n",
       "To toggle on/off the raw code, click <a href=\"javascript:code_toggle()\">here</a>.''')"
      ],
      "text/plain": [
       "<IPython.core.display.HTML object>"
      ]
     },
     "metadata": {},
     "output_type": "display_data"
    }
   ],
   "source": [
    "%%html\n",
    "<script>\n",
    "    // AUTORUN ALL CELLS ON NOTEBOOK-LOAD!\n",
    "    require(\n",
    "        ['base/js/namespace', 'jquery'], \n",
    "        function(jupyter, $) {\n",
    "            $(jupyter.events).on(\"kernel_ready.Kernel\", function () {\n",
    "                console.log(\"Auto-running all cells-below...\");\n",
    "                jupyter.actions.call('jupyter-notebook:run-all-cells-below');\n",
    "                jupyter.actions.call('jupyter-notebook:save-notebook');\n",
    "            });\n",
    "        }\n",
    "    );\n",
    "</script>\n",
    "\n",
    "import warnings\n",
    "warnings.filterwarnings(\"ignore\")\n",
    "\n",
    "from IPython.display import HTML\n",
    "HTML('''<script>\n",
    "code_show=true; \n",
    "function code_toggle() {\n",
    " if (code_show){\n",
    " $('div.input').hide();\n",
    " } else {\n",
    " $('div.input').show();\n",
    " }\n",
    " code_show = !code_show\n",
    "} \n",
    "$( document ).ready(code_toggle);\n",
    "</script>\n",
    "The raw code for this IPython notebook is by default hidden for easier reading.\n",
    "To toggle on/off the raw code, click <a href=\"javascript:code_toggle()\">here</a>.''')"
   ]
  },
  {
   "cell_type": "code",
   "execution_count": null,
   "metadata": {},
   "outputs": [],
   "source": []
  }
 ],
 "metadata": {
  "kernelspec": {
   "display_name": "Python 3",
   "language": "python",
   "name": "python3"
  },
  "language_info": {
   "codemirror_mode": {
    "name": "ipython",
    "version": 3
   },
   "file_extension": ".py",
   "mimetype": "text/x-python",
   "name": "python",
   "nbconvert_exporter": "python",
   "pygments_lexer": "ipython3",
   "version": "3.6.6"
  }
 },
 "nbformat": 4,
 "nbformat_minor": 2
}
