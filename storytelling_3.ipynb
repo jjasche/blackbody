{
 "cells": [
  {
   "cell_type": "markdown",
   "metadata": {},
   "source": [
    "Our detective has just learned that there is a universal law which relates the temperature of a star (in general, the temperature of a blackbody) and the wavelenght at which the blackbody emission is maximal. Let's see where this discovery leads our detective... \n",
    "\n",
    "*Day 80*\n",
    "So, I am one step ahead. Now, if I measure the spectrum of a star, I can derive the temperature of the star. What a powerful law I have discovered! HAL! Let's go back to that list of stars I couldn't find the temperature. With the graph I have just draw, it should be easy to extract their temperatures given their spectra.\n",
    "\n",
    "`Hi there! HAL's here! Please, go to [Temperature of stars](Tstars.ipynb) and find some spectra of stars in our own galaxy. Based on your previous findings, you should be able to determine the temperature of those stars.`"
   ]
  }
 ],
 "metadata": {
  "kernelspec": {
   "display_name": "Python 2",
   "language": "python",
   "name": "python2"
  },
  "language_info": {
   "codemirror_mode": {
    "name": "ipython",
    "version": 2
   },
   "file_extension": ".py",
   "mimetype": "text/x-python",
   "name": "python",
   "nbconvert_exporter": "python",
   "pygments_lexer": "ipython2",
   "version": "2.7.14"
  }
 },
 "nbformat": 4,
 "nbformat_minor": 2
}
