{
 "cells": [
  {
   "cell_type": "markdown",
   "metadata": {},
   "source": [
    "# Twinkle twinkle little star\n",
    "You can now appreaciate how HAL helped me derive that universal law called Wien's displacement law. It applies to all warm bodies, including my beloved stars. That meant that I could simply measure the spectrum of a star, see at which wavelength the emission was maximal and that's it! Thanks to that wonderful plot I made, it was simply a joke to determine the temperature of the star. So glad that on Tatoine the first toy newborns are given as a gift is a detector! Don't you know? No, don't laugh at me! I am serious! Well, it is a long story to tell now, and I have so many other interesting things to tell you...long story short, you must have a detector if you live in a stellar system with two stars! What would happen to you if you get lost in the system and don't know where you are? You seriously risk to end up being a fried chip for Klingon, my dear!\n",
    "\n",
    "So, what do you do when you are in a new galaxy surrounded by thousands million unknown stars adn you have to look for a specific star? Don't know about you, but I decided to randomly pick a few stars that looked quite different from each other and measure they spectra to get to know thei temperature. At least, after this first screening, I could understand what type of stars I had to search for.\n",
    "\n",
    "HERE WE CAN SEND THEM TO MEASURING THE TEMPERATURE OF DIFFERENT STARS"
   ]
  }
 ],
 "metadata": {
  "kernelspec": {
   "display_name": "Python 2",
   "language": "python",
   "name": "python2"
  },
  "language_info": {
   "codemirror_mode": {
    "name": "ipython",
    "version": 2
   },
   "file_extension": ".py",
   "mimetype": "text/x-python",
   "name": "python",
   "nbconvert_exporter": "python",
   "pygments_lexer": "ipython2",
   "version": "2.7.14"
  }
 },
 "nbformat": 4,
 "nbformat_minor": 2
}
