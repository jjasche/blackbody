{
 "cells": [
  {
   "cell_type": "markdown",
   "metadata": {},
   "source": [
    "<div class=\"alert alert-block alert-success\" markdown=\"1\">\n",
    "\n",
    "<h1> Galaxy chronicles </h1> \n",
    "\n",
    "<font color=\"blue\"> Maybe we should also explain here what this is about...something like an interactive story adventure. </font>\n",
    "\n",
    "<img src=\"./visual_arts/hst15_milky_way.gif\" width=\"80%\">\n",
    "\n",
    "<p style='text-align: justify;'>\n",
    "\n",
    "<font color=\"blue\"> I got the complaint that the name is hard to read. I consulted a random scifi character name generator which came up with several names. I chose  \"Lani\" because it seemed to be the most gender neutral name that the machine came up with. Do you agree?? should we choose another name?</font>\n",
    "\n",
    "Hi, I am Qfwfq and I am a proud researcher in Physics at the Imperial College of Earthsea. When I was younger I thought I could be a dancer, or a volleyball-player! It was only after my long trip to a galaxy so far away from home that I realised 'hmm, it's actually fun to be a researcher!'. Let me tell you how everything began... \n",
    "\n",
    "As I was saying, I was young. I had my best friend from my primary school who moved to a galaxy far away... how is it called? Something with milk, I believe... \n",
    "\n",
    "\n",
    "\n",
    "I packed my stuff, I sneaked out of home and I went to the astrotrain station. I took astrotrain number 42. \n",
    "\n",
    "I think I fell asleep. It was only when we crashed into that little asteroid that I woke up. We were already a couple thousands AU(Astronomical Units) from home. Not that far, but you know, I had never been that far from home. \n",
    "\n",
    "As I jumped off the astro train, I realized we were going to be stuck for a while. I started thinking 'You don't know where to go! You're lost!'. I didn't know exactly where my friend was. The only thing I knew was that my friend's family moved to this milky-something galaxy and that the stellar system they chose had only one star called Sun. With the last drops of battery charge my kickass-phone had, I learnt that the star, \"Sun\", was a <b><i>main sequence star</i></b>. Then my phone went off.\n",
    "\n",
    "Ok, Qfwfq, I said, let's go search for this star in the milky-something. \n",
    "In that moment, the astrotrain arrived. \n",
    "\n",
    "</p>\n",
    "<p style='text-align: justify;'>\n",
    "You may wonder how I could find a single star in an unknown galaxy with no information other than those I had. From school I remember that I could identify a star by knowing its temperature, radius and luminosity. So the plan was made. I had to travel around the galaxy, classify stars and find this one star, the \"Sun\". I could rent a private astrojet and cover the distance between the astroport and my milky-galaxy. The only thing is that I was already so tired to be alone! All this thinking... if only I had a colleague to think with! I was embracing that sad attitude when I entered my astrojet, that a funny little voice played out of the control station inside my astrojet. 'Hi there! This is HAL! I will be your companion during your journey.'. HAL! Oh, it was so fun to travel with HAL! HAL had an infinite database that could be accessed! It was like having all the books of the Universe accessible! But there must have been some issues with the hardware, because HAL didn't answer all my questions. I could ask 'HAL! How fast this astrojet goes?' and HAL could tell me that. But when I asked 'HAL! When are we supposed to arrive at the milky galaxy?', then HAL replied 'We are going with a constant speed and we are at 870 light-year from the galaxy. So I had to work out the answer by myself. Well, not entirely true. I could still discuss with HAL. 'Ok, so this is the distance, then I know the speed...' 'Yes, the speed! Tell me, what are the units of the speed?' 'distance/time...well! I got it! Thanks HAL!'. A few years later, I would learn that science is a cooperational effort. HAL was my first colleague!\n",
    "</p>\n",
    "\n",
    "\n",
    "<p>Go to <a href=\"wien_displacement.ipynb\">\n",
    "[Chapter 1]</a>.</p>\n",
    "\n",
    "</div>"
   ]
  },
  {
   "cell_type": "code",
   "execution_count": null,
   "metadata": {},
   "outputs": [],
   "source": []
  }
 ],
 "metadata": {
  "kernelspec": {
   "display_name": "Python 2",
   "language": "python",
   "name": "python2"
  },
  "language_info": {
   "codemirror_mode": {
    "name": "ipython",
    "version": 3
   },
   "file_extension": ".py",
   "mimetype": "text/x-python",
   "name": "python",
   "nbconvert_exporter": "python",
   "pygments_lexer": "ipython3",
   "version": "3.6.6"
  }
 },
 "nbformat": 4,
 "nbformat_minor": 2
}
