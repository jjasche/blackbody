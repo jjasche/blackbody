{
 "cells": [
  {
   "cell_type": "markdown",
   "metadata": {},
   "source": [
    "<div class=\"alert alert-block alert-success\" markdown=\"1\">\n",
    "\n",
    "<h1> Galaxy chronicles </h1> \n",
    "\n",
    "<img src=\"./visual_arts/hst15_milky_way.gif\" width=\"80%\">\n",
    "\n",
    "<p style='text-align: justify;'>\n",
    "Hi, I am Qfwfq and I am a proud researcher in Physics at the Imperial College of Earthsea. <font color=\"red\"> Actually, I have never really thought that I could become a researcher.</font> When I was younger<font color=\"red\">, much younger than today,</font> I thought I could be a dancer, or a volleyball-player! It was only after my long trip to a galaxy so far away from home that I realised 'hmm, it's actually fun to be a researcher!'. Let me tell you how everything began... \n",
    "\n",
    "As I was saying, I was young. I had my best friend from my primary school who moved to a galaxy far away... how is it called? Something with milk, I believe... \n",
    "\n",
    "I packed my stuff, I sneaked out of home and I went to the astrotrain station. I took astrotrain number 42.\n",
    "\n",
    "I think I fell asleep. It was only when we crashed into that little asteroid that I woke up. We were already a couple thousands AU from home. Not that far, but you know, I had never been that far from home.\n",
    "\n",
    "As I jumped off the astro, I realized we were going to be stuck for a while. I started thinking 'well, my dear Qfwfq, if you only take one single step, that is the farthest you have been from home'. Of course, I had to take the step. What else? 'Well, my dear Qfwfq, if you take another single step, that will be the farthest you have been from home'. I took the step. 'Well, my dear Qfwfq, if you...'. Well! You got the point. I walked a fair amount of steps. I walked until the next stop. Then until the next. Then the next-to-the-next. Then I was hungry and I stopped. It was only when I was eating eagerly my sandwich of crunchy shiny bugs and purple seawheels that I realised 'Qfwfq! You don't know where to go! You're lost!'. It was true, I hadn't really thought about this little aspect. I didn't know exactly where my friend was. The only thing I knew was that my friend's family moved to this milky-something galaxy (luckily enough, they teach you at school that the milky-something is in 98-th quadrant of our portion of the Universe) and that the stellar system they chose had only one star (would you believe it? Only one star!) called Sun. You know, those were sad days. We didn't have these fantastic 90-th dimentional maps of the entire Universe that we have now. We could just search for basic information on the univernet. With the last drops of charge my kickass-phone had, I learnt that the star I had to look for was a main sequence star with a certain radius. Then my phone went off. Ok, Qfwfq, I said, let's go search for this star in the milky-something. In that moment, the astrotrain arrived. \n",
    "</p>\n",
    "<p style='text-align: justify;'>\n",
    "You may wonder how I could find a single star in an unknown galaxy with no information other than those I had. From school I remember that I could identify a star by knowing its temperature, radius and luminosity. So the plan was made. I had to travel around the galaxy, classify stars and find the one I wanted. I was smiling as I realized my plan, when we arrived at the final destination of astro 42. The big astroport at the end of the Universe! Do you know how good the fish is at the restaurant there? Anyhow, I could rent a private astrojet and cover the distance between the astroport and my milky-galaxy. The only thing is that I was already so tired to be alone! All this thinking... if only I had a colleague to think with! I was embracing that sad attitude when I entered my astrojet, that a funny little voice played out of the control station inside my astrojet. 'Hi there! This is HAL! I will be your companion during your journey.'. HAL! Oh, it was so fun to travel with HAL! HAL had an infinite database that could be accessed! It was like having all the books of the Universe accessible! But there must have been some issues with the hardware, because HAL didn't answer all my questions. I could ask 'HAL! How fast this astrojet goes?' and HAL could tell me that. But when I asked 'HAL! When are we supposed to arrive at the milky galaxy?', then HAL replied 'We are going with a constant speed and we are at 870 light-year from the galaxy. So I had to work out the answer by myself. Well, not entirely true. I could still discuss with HAL. 'Ok, so this is the distance, then I know the speed...' 'Yes, the speed! Tell me, what are the units of the speed?' 'distance/time...well! I got it! Thanks HAL!'. A few years later, I would learn that science is a cooperational effort. HAL was my first colleague!\n",
    "</p>\n",
    "\n",
    "<font color=\"blue\"> Maybe we should also explain at the top what this is about...something like an interactive story adventure. </font>\n",
    "\n",
    "\n",
    "<p>Go to <a href=\"wien_displacement.ipynb\">\n",
    "[Chapter 1]</a>.</p>\n",
    "\n",
    "</div>"
   ]
  },
  {
   "cell_type": "code",
   "execution_count": null,
   "metadata": {
    "collapsed": true
   },
   "outputs": [],
   "source": []
  }
 ],
 "metadata": {
  "kernelspec": {
   "display_name": "Python 2",
   "language": "python",
   "name": "python2"
  },
  "language_info": {
   "codemirror_mode": {
    "name": "ipython",
    "version": 2
   },
   "file_extension": ".py",
   "mimetype": "text/x-python",
   "name": "python",
   "nbconvert_exporter": "python",
   "pygments_lexer": "ipython2",
   "version": "2.7.14"
  }
 },
 "nbformat": 4,
 "nbformat_minor": 2
}
