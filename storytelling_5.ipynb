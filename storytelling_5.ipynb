{
 "cells": [
  {
   "cell_type": "markdown",
   "metadata": {},
   "source": [
    "Our detective has just discovered a universal law governing the evolution of stars, and that this law posits on quantum physics! You never know in science...you study something, and this turns out to be fundamental to explain something else! We now know that the temperature and size of a star determine how much energy the star emits. There is a very clever way to summarise in a graph this relation, and our detective is about to learn it...\n",
    "\n",
    "*Day 91*\n",
    "It makes sense, it makes sense…the energy emitted per unit time by a star (luminosity) is directly proportional to the fourth power of its temperature and to its surface area. I knew that there was a meaning behind that strange figure I got when I reported my stars on a temperature-luminosity graph! Let’s see if I can reproduce it now…I should have a list of stars here somewhere in my pocket, with temperature and luminosities…\n",
    "\n",
    "Here it is the graph! These sub-groups of stars in the graph are not random groups! HAL, look! I can compute the size of the stars now! Wow, this book is really awesome!!!\n",
    "\n",
    "`Hi there! HAL's here! Yes, stars occupy only certain regions in a graph with temperature on the x-axis and luminosity on the y-axis. Please, go to [H-R diagram](hr.ipynb) to discover why this happens.`"
   ]
  }
 ],
 "metadata": {
  "kernelspec": {
   "display_name": "Python 2",
   "language": "python",
   "name": "python2"
  },
  "language_info": {
   "codemirror_mode": {
    "name": "ipython",
    "version": 2
   },
   "file_extension": ".py",
   "mimetype": "text/x-python",
   "name": "python",
   "nbconvert_exporter": "python",
   "pygments_lexer": "ipython2",
   "version": "2.7.14"
  }
 },
 "nbformat": 4,
 "nbformat_minor": 2
}
