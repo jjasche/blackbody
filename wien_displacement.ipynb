{
 "cells": [
  {
   "cell_type": "markdown",
   "metadata": {},
   "source": [
    "<div class=\"alert alert-block alert-success\">\n",
    "\n",
    "# Paint it black! or \"Black Body Radiation\"\n",
    "\n",
    "\n",
    "\n",
    "<img src=\"https://www.nuclear-power.net/wp-content/uploads/blackbody-radiation-chart-min-300x181.png\" width=\"50%\">\n",
    "\n",
    "<p style='text-align: justify;'>\n",
    "We finally approached the Milky Way (HAL told me that I should stop calling it 'milky-something'. 'Accuracy is important in science!' HAL told me. Well, what can I say? HAL was right!). Ok, I thought, we are done. 'HAL! Just tell me the temperature, radius and luminosity of all these stars'. 'No, Qfwfq, I don't have an answer to this question. The only thing I can give you is this file. It contains a lot of data. Those data are thermal spectra emitted by warm bodies at different temperatures. Have you ever heard of 'blackbody radiation', Qfwfq?'.\n",
    "</p>\n",
    "SCIENCE BOX WITH INFO ABOUT BLACKBODY RADIATION (or link to the end of the page, where we have the summary of what we have learnt, see below)\n",
    "\n",
    "\n",
    "## How are temperature and peak wavelength related for blackbody radiation?\n",
    "<p style='text-align: justify;'>\n",
    "So, HAL told me that warm bodies emit radiation with a peculiar spectrum. In other words, the shape of the energy emitted as a function of the wavelength is a particular shape, called a Planck spectrum. The interesting thing is that if one considers bodies at different temperatures, the Planck spectrum has always the same overall shape but the amplitude and the maximum of the different spectra are different. \n",
    "You can imagine how frustrated I was. I got to know where my friend was! I wanted to find this damn 'Sun' and I was stuck there with a bunch of spectra emitted by different objects (Did I forget to mention? It's not only stars that emit a blackbody radiation!). 'HAL, what am I supposed to do with that? The only thing I can make is to see how these peaks change with the temperature'. 'That is a good starting point, Qfwfq' said HAL, 'why don't you try to see where those curves peak and summarise this information on a graph?'.\n",
    "</p>\n",
    "\n",
    "## It's your turn now!\n",
    "<p style='text-align: justify;'>\n",
    "Below you have been provided with several Planck spectra for different temperatures. You are supposed to discover the relation between the temperature and the peak wavelength of maximal emission of a blackbody radiator.\n",
    "\n",
    "There are several paths towards the solution, find your own way. You may use programming techniques, analytical derivations or use paper and pencil to plot and derive this universal law.\n",
    "\n",
    "You should finish this task within 10 min.\n",
    "\n",
    "Here you are given some blackbody emission spectra at different temperatures. You should use these to derive the relation between temperature and peak wavelength.\n",
    "\n",
    "When you are done, go to [Chapter 2](Tstars.ipynb).\n",
    "</p>\n",
    "\n",
    "\n",
    "# Bakgrund\n",
    "Svartkroppsstrålning är ett grundläggande fenomen i fysiken. Svarta objekt kommer att ha ett typiskt förhållande mellan intensitet och våglängd, dvs. vilken färg av ljuset vi ser. Det fantastiska med svartkroppstrålning är att vi kan, utan stora felaktigheter, anta att många icke-svarta objekt runtomkring oss beter sig som svarta kroppar när det kommer till ljuset de sänder ut när de är väldigt varma!\n",
    "\n",
    "Svartkroppsstrålning grundar sig i kvantmekanik, ett område av fysiken som beskriver t ex hur lasrar och halvledare fungerar (som i sin tur är grundpelare i moderna datorer och mobiltelefoner). Med andra ord så har svartkroppsstrålning en väldigt komplex grund men beter sig relativt enkelt när det kommer till stora föremål!\n",
    "\n",
    "Inom astronomin är denna relation viktig, eftersom det tillåter oss hitta temperaturen av en stjärna utifrån våglängden den skickar ut igenom kosmos. Detta innebär att vi kan räkna ut värmen av stjärnorna utan att behöva besöka dem.\n",
    "\n",
    "Ett annat sätt att beskriva svartkroppsstrålning är att färgen av svartkroppen kommer att vara bestämt av hur varm den är (och färgen kommer att vara den intensivaste våglängden i diagrammet). Detta leder till en unik relation mellan starkaste våglängden och temperaturen av objektet.\n",
    "\n",
    "Vi ska nu hitta denna relation!\n",
    "\n",
    "\n",
    "# Instruktioner\n",
    "Hitta sammanband mellan temperaturen av källan och starkaste våglängden av ljuset.\n",
    "\n",
    "Titta i figuren nedanför. Från den så kan du ta fram en maximal våglängd för varje temperatur som är uppritad.\n",
    "\n",
    "Utifrån värden för temperaturen och max-våglängden kan du, på olika sätt, ta fram en relation mellan dessa egenskaper. \n",
    "\n",
    "Vad är relationen?\n",
    "\n",
    "</div>"
   ]
  },
  {
   "cell_type": "code",
   "execution_count": null,
   "metadata": {},
   "outputs": [],
   "source": [
    "import numpy as np\n",
    "import matplotlib.pylab as plt\n",
    "from src.support import *\n",
    "import warnings\n",
    "warnings.filterwarnings(\"ignore\")\n",
    "plt.style.use('seaborn-ticks')\n",
    "\n",
    "%matplotlib inline\n",
    "%config InlineBackend.figure_format = 'retina'\n",
    "\n",
    "wavelength,intensity,Temp=get_spectra()"
   ]
  },
  {
   "cell_type": "code",
   "execution_count": 32,
   "metadata": {},
   "outputs": [
    {
     "name": "stdout",
     "output_type": "stream",
     "text": [
      "Enter value of maximum wavelength (the value of the most intense wavelength) (nm)\n"
     ]
    },
    {
     "data": {
      "application/vnd.jupyter.widget-view+json": {
       "model_id": "55934eb9ece54f6eaae47bf1a46fb518",
       "version_major": 2,
       "version_minor": 0
      },
      "text/plain": [
       "FloatText(value=440.0)"
      ]
     },
     "metadata": {},
     "output_type": "display_data"
    },
    {
     "name": "stdout",
     "output_type": "stream",
     "text": [
      "Enter value of temperature (K)\n"
     ]
    },
    {
     "data": {
      "application/vnd.jupyter.widget-view+json": {
       "model_id": "9c505d2ad57c46acbfe055df6622116a",
       "version_major": 2,
       "version_minor": 0
      },
      "text/plain": [
       "FloatText(value=6500.0)"
      ]
     },
     "metadata": {},
     "output_type": "display_data"
    },
    {
     "data": {
      "application/vnd.jupyter.widget-view+json": {
       "model_id": "448014eaed4e45e8b7c6fd06a7ee8f60",
       "version_major": 2,
       "version_minor": 0
      },
      "text/plain": [
       "Button(description='Plot values', style=ButtonStyle())"
      ]
     },
     "metadata": {},
     "output_type": "display_data"
    },
    {
     "data": {
      "application/vnd.jupyter.widget-view+json": {
       "model_id": "c4c51778e4dd4280959a5857490ed125",
       "version_major": 2,
       "version_minor": 0
      },
      "text/plain": [
       "Button(description='Reset Values', style=ButtonStyle())"
      ]
     },
     "metadata": {},
     "output_type": "display_data"
    },
    {
     "data": {
      "image/png": "[encoded data removed]",
      "text/plain": [
       "<Figure size 432x288 with 1 Axes>"
      ]
     },
     "metadata": {
      "image/png": {
       "height": 268,
       "width": 400
      }
     },
     "output_type": "display_data"
    }
   ],
   "source": [
    "from IPython.display import display\n",
    "from ipywidgets import widgets\n",
    "import numpy as np\n",
    "from IPython.display import clear_output\n",
    "import matplotlib.pyplot as plt\n",
    "\n",
    "\n",
    "print('Enter value of maximum wavelength (the value of the most intense wavelength) (nm)')\n",
    "lambda_text = widgets.FloatText()\n",
    "display(lambda_text)\n",
    "print('Enter value of temperature (K)')\n",
    "T_text = widgets.FloatText()\n",
    "display(T_text)\n",
    "button = widgets.Button(description=\"Plot values\")\n",
    "display(button)\n",
    "reset_button = widgets.Button(description=\"Reset Values\")\n",
    "display(reset_button)\n",
    "\n",
    "lambda_list = []\n",
    "T_list = []\n",
    "\n",
    "plt.plot(T_list,lambda_list, linestyle=' ', marker='o', color='r', label='Square')\n",
    "plt.axis((2000,9000,300,900))\n",
    "plt.ylabel('Wavelength (nm)')\n",
    "plt.xlabel('Temperature (K)')\n",
    "plt.show\n",
    "\n",
    "def clear():\n",
    "    clear_output()\n",
    "    print('Enter value of maximum wavelength (the value of the most intense wavelength) (nm)')\n",
    "    display(lambda_text)\n",
    "    print('Enter value of temperature (K)')\n",
    "    display(T_text)\n",
    "    display(button)\n",
    "    display(reset_button)\n",
    "    draw_plot()\n",
    "    \n",
    "def draw_plot():\n",
    "    plt.plot(T_list,lambda_list, linestyle=' ', marker='o', color='r', label='Square')\n",
    "    plt.axis((2000,9000,300,900))\n",
    "    plt.ylabel('Wavelength (nm)')\n",
    "    plt.xlabel('Temperature (K)')\n",
    "    plt.show\n",
    "\n",
    "def on_button_clicked(b):\n",
    "    lambda_value = float(lambda_text.value)\n",
    "    T_value = float(T_text.value)\n",
    "    lambda_list.append(lambda_value)\n",
    "    T_list.append(T_value)\n",
    "    \n",
    "    clear()\n",
    "\n",
    "def reset(b):\n",
    "    del lambda_list[:]\n",
    "    del T_list[:]\n",
    "    \n",
    "    clear()\n",
    "        \n",
    "    \n",
    "\n",
    "button.on_click(on_button_clicked)\n",
    "reset_button.on_click(reset)"
   ]
  },
  {
   "cell_type": "markdown",
   "metadata": {},
   "source": [
    "<div class=\"alert alert-block alert-danger\">\n",
    "\n",
    "# Summary: What have we learned?\n",
    "\n",
    "* In the early 1890s Wilhelm Wien investigated thermodynamics and coined the term black body for an ideal radiator.\n",
    "\n",
    "* He discovered that the wavelength of maximum energy emitted from a perfect black body was inversely proportional to the temperature of the body:\n",
    "\n",
    "\\begin{equation}\n",
    "\\lambda_\\mathrm{max}\\propto 1/T\n",
    "\\end{equation}\n",
    "\n",
    "<p style='text-align: justify;'>\n",
    "In the early 1890s Wilhelm Wien investigated thermodynamics and coined the term black body for an ideal radiator. He discovered that the wavelength of maximum energy emitted from a perfect black body was inversely proportional to the temperature of the body, λmax is proportional to 1/T. This relationship is known as Wien's Law in his honour.\n",
    "</p>\n",
    "\n",
    "* The description of blackbody radiation is intimately connected to the quantum physics.\n",
    "\n",
    "\n",
    "</div>\n",
    "\n",
    "\n",
    "<div class=\"alert alert-block alert-info\">\n",
    "\n",
    "# Scientific background: Discovering Wien's displacement law\n",
    "<p style='text-align: justify;'>\n",
    "At the beginning of the 20th-century studies of blackbodies revealed new insights into the interaction between matter and radiation and triggered a revolution: The development of quantum mechanics. Modern technical advances, such as LASER technology or modern semiconductors for computers exploit the principles of quantum mechanics which have first been investigated by Planck, Bohr, Heisenberg and others. The discovery and understanding of the blackbody radiation, therefore, played an important role in modern science, technology and our society.   \n",
    "\n",
    "In the context of astronomy and cosmology, black body radiation can be used to study features of observed celestial objects like stars or galaxies.\n",
    "\n",
    "\n",
    "Despite its complex quantum mechanical origin, the blackbody emission spectrum exhibits some simple features.\n",
    "</p>\n",
    "\n",
    "<p style='text-align: justify;'>\n",
    "As stated above, the blackbody emission spectrum follows a continuous Planck law, which is solely determined by a single temperature. With increasing temperature the overall radiated energy increases and the peak of the emission spectrum moves to shorter wavelengths. Therefore the hotter a blackbody will be, the bluer the peak wavelength will appear.  \n",
    "</p>\n",
    "\n",
    "In consequence there exists a unique relation between the temperature and the peak wavelength of a blackbody emission spectrum.\n",
    "</p>\n",
    "\n",
    "## Literature\n",
    "\n",
    "The contents base on the following literature:\n",
    "\n",
    "* Andrew Gelman, John B. Carlin, Hal S. Stern, David B. Dunson, Aki Vehtari, Donald B. Rubin, *Bayesian Data Analysis, Third Edition*, Chapman and Hall/CRC, 2013\n",
    "\n",
    "* Kevin B. Korb, Ann E. Nicholson, *Bayesian Artificial Intelligence, Second Edition*, Chapman & Hall/CRC, 2010\n",
    "\n",
    "\n",
    "\n",
    "\n",
    "\n",
    "\n",
    "\n",
    "</div>\n",
    "\n",
    "\n",
    "\n",
    "\n"
   ]
  },
  {
   "cell_type": "code",
   "execution_count": null,
   "metadata": {},
   "outputs": [],
   "source": [
    "import warnings\n",
    "warnings.filterwarnings(\"ignore\")\n",
    "\n",
    "from IPython.display import HTML\n",
    "HTML('''<script>\n",
    "code_show=true; \n",
    "function code_toggle() {\n",
    " if (code_show){\n",
    " $('div.input').hide();\n",
    " } else {\n",
    " $('div.input').show();\n",
    " }\n",
    " code_show = !code_show\n",
    "} \n",
    "$( document ).ready(code_toggle);\n",
    "</script>\n",
    "The raw code for this IPython notebook is by default hidden for easier reading.\n",
    "To toggle on/off the raw code, click <a href=\"javascript:code_toggle()\">here</a>.''')"
   ]
  },
  {
   "cell_type": "code",
   "execution_count": null,
   "metadata": {},
   "outputs": [],
   "source": [
    "%%html\n",
    "<script>\n",
    "    // AUTORUN ALL CELLS ON NOTEBOOK-LOAD!\n",
    "    require(\n",
    "        ['base/js/namespace', 'jquery'], \n",
    "        function(jupyter, $) {\n",
    "            $(jupyter.events).on(\"kernel_ready.Kernel\", function () {\n",
    "                console.log(\"Auto-running all cells-below...\");\n",
    "                jupyter.actions.call('jupyter-notebook:run-all-cells-below');\n",
    "                jupyter.actions.call('jupyter-notebook:save-notebook');\n",
    "            });\n",
    "        }\n",
    "    );\n",
    "</script>"
   ]
  },
  {
   "cell_type": "code",
   "execution_count": null,
   "metadata": {},
   "outputs": [],
   "source": []
  }
 ],
 "metadata": {
  "kernelspec": {
   "display_name": "Python 3",
   "language": "python",
   "name": "python3"
  },
  "language_info": {
   "codemirror_mode": {
    "name": "ipython",
    "version": 3
   },
   "file_extension": ".py",
   "mimetype": "text/x-python",
   "name": "python",
   "nbconvert_exporter": "python",
   "pygments_lexer": "ipython3",
   "version": "3.6.5"
  }
 },
 "nbformat": 4,
 "nbformat_minor": 2
}
