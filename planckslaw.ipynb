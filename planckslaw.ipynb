{
 "cells": [
  {
   "cell_type": "markdown",
   "metadata": {},
   "source": [
    "# Black Body Radiation\n",
    "Authors:  A + B\n",
    "\n"
   ]
  },
  {
   "cell_type": "code",
   "execution_count": 1,
   "metadata": {},
   "outputs": [],
   "source": [
    "import numpy as np\n",
    "import matplotlib.pylab as plt\n",
    "from src.support import *\n",
    "\n",
    "plt.style.use('seaborn-ticks')\n",
    "\n",
    "%matplotlib inline\n",
    "%config InlineBackend.figure_format = 'retina'"
   ]
  },
  {
   "cell_type": "markdown",
   "metadata": {},
   "source": [
    "# Introduction\n",
    "\n",
    "Objects with temperatures larger than absolute zero ( 0 K or -273.15 °C) emit energy in terms of electromagnetic radiation. This is the phenomenon of blackbody radiation. Black bodies are idealized objects that perfectly absorb incident radiation of any frequency and angle of incidence. They do not reflect any light, nor do they allow any light to pass through it. That is why black bodies appear black at room temperature. In contrast, a white body would reflect all incident radiation uniformly in all directions (add some references).\n",
    "\n",
    "In thermal equilibrium, that is at a constant temperature, black bodies emit electromagnetic radiation. The emission spectrum of this black body radiation follows Planck's law and is solely determined by the object's temperature. Shape or composition of a black body has no impact on its emission spectrum. With increasing temperature blackbodies emit more light at all wavelengths. This means, when comparing two blackbodies, the hotter one will always emit more light than the cooler one, regardless of the wavelength.\n",
    "\n",
    "The emission spectrum of a blackbody is continuous and peaks at a specific wavelength, at which the intensity of the spectrum is maximal. This peak wavelength of the blackbody radiation shifts to shorter wavelengths for hotter objects. \n",
    "In terms of visible light, the hotter a blackbody is the bluer the peak wavelength of its emission will be.\n",
    "\n",
    "A detailed explanation of the blackbody radiation requires knowledge on quantum mechanics as pioneered by Max Planck in 1900. A full quantum mechanical description of the black body phenomenon is beyond the scope of this workshop.\n",
    "\n",
    "In reality, there exists no ideal blackbody, but many objects like light bulbs, candles, hot metal or lava behave approximately like black bodies.\n",
    "\n",
    "The black body radiation has particular relevance for cosmology and astrophysics. One of the best measurements of a naturally occurring black body emission spectrum was obtained by ESA's Planck satellite mission, which observed the cosmic microwave background radiation, a relic radiation of the hot big bang from the beginning of our Universe.\n",
    "Also, the emission spectrum of stars, which are hot luminous spheroids of gaseous plasma, can be approximated by a Planck law.\n",
    "\n",
    "In the course of this workshop, we want to use the phenomenon of blackbody radiation to make sense of astrophysical observations. \n",
    "\n"
   ]
  },
  {
   "cell_type": "markdown",
   "metadata": {},
   "source": [
    "# Summary: What have we learned?"
   ]
  },
  {
   "cell_type": "markdown",
   "metadata": {},
   "source": [
    "# References\n",
    "\n",
    "\n",
    "Habitable zone https://arxiv.org/pdf/1708.09766.pdf\n",
    "some notes on BlaclBody radiation http://www.csc.kth.se/~cgjoh/ambsblack.pdf , some more black body stuff http://www.public.asu.edu/~hhuang38/mae578_lecture_03.pdf"
   ]
  },
  {
   "cell_type": "markdown",
   "metadata": {},
   "source": [
    "## Literature\n",
    "\n",
    "The contents base on the following literature:\n",
    "\n",
    "* Andrew Gelman, John B. Carlin, Hal S. Stern, David B. Dunson, Aki Vehtari, Donald B. Rubin, *Bayesian Data Analysis, Third Edition*, Chapman and Hall/CRC, 2013\n",
    "\n",
    "* Kevin B. Korb, Ann E. Nicholson, *Bayesian Artificial Intelligence, Second Edition*, Chapman & Hall/CRC, 2010\n",
    "\n"
   ]
  }
 ],
 "metadata": {
  "kernelspec": {
   "display_name": "Python 3",
   "language": "python",
   "name": "python3"
  },
  "language_info": {
   "codemirror_mode": {
    "name": "ipython",
    "version": 3
   },
   "file_extension": ".py",
   "mimetype": "text/x-python",
   "name": "python",
   "nbconvert_exporter": "python",
   "pygments_lexer": "ipython3",
   "version": "3.6.5"
  }
 },
 "nbformat": 4,
 "nbformat_minor": 2
}
