{
 "cells": [
  {
   "cell_type": "markdown",
   "metadata": {},
   "source": [
    "# STEFAN-BOLTZMANN LAW\n",
    "\n",
    "The Stefan-Boltzmann law is a relation between the power (energy per time unit) emitted by a blackbody and the temperature of the blackbody. If we apply it to the emission of stars, it states that the star luminosity is directly proportional to the fourth power of the surface temperature of the star. The value of the proportionality constant depends on other fundamental constants in nature, such as the Boltzmann constant *k*, the Planck constant *h*, and the speed of light *c*. To learn more about the Stefan-Boltzmann law, see the material available on the [ESA webpage](http://sci.esa.int/education/35774-stellar-radiation-stellar-types/?fbodylongid=1698)"
   ]
  },
  {
   "cell_type": "code",
   "execution_count": 7,
   "metadata": {},
   "outputs": [
    {
     "data": {
      "image/png": "[encoded data removed]",
      "text/plain": [
       "<matplotlib.figure.Figure at 0x107315690>"
      ]
     },
     "metadata": {},
     "output_type": "display_data"
    }
   ],
   "source": [
    "import numpy as np\n",
    "import matplotlib.pyplot as plt\n",
    "\n",
    "sigmaSB = 5.670373e-8\n",
    "T = np.arange(1000,10000,step=10)\n",
    "L = sigmaSB*T**4\n",
    "\n",
    "plt.plot(T,L)\n",
    "plt.xlabel('Surface Temperature [K]')\n",
    "plt.ylabel('Luminosity')\n",
    "plt.xscale('log')\n",
    "plt.yscale('log')\n",
    "plt.show()"
   ]
  },
  {
   "cell_type": "markdown",
   "metadata": {},
   "source": [
    "# The Hertzsprung-Russell diagram\n",
    "\n",
    "Now that we know how to determine the surface temperature of a star and how to compute the star luminosity given its surface temperature, we can go straight to the last step of this lecture. We are going to see where the stars are located in the Hertzsprung-Russell diagram.\n",
    "\n",
    "The Hertzsprung-Russell diagram (HR diagram) is one of the most important tools in the study of stellar evolution. Developed independently in the early 1900s by Ejnar Hertzsprung and Henry Norris Russell, it plots the temperature of stars against their luminosity. This is the **theoretical HR diagram**. Scientists also refer to more observational properties of the stars. In particular, they can plot the colour of stars (or spectral type) against their absolute magnitude. In this case, we talk of the **observational HR diagram**, also known as a colour-magnitude diagram.\n",
    "Depending on its initial mass, every star goes through specific evolutionary stages dictated by its internal structure and how it produces energy. Each of these stages corresponds to a change in the temperature and luminosity of the star, which can be seen to move to different regions on the HR diagram as it evolves. This reveals the true power of the HR diagram – astronomers can know a star’s internal structure and evolutionary stage simply by determining its position in the diagram."
   ]
  },
  {
   "cell_type": "markdown",
   "metadata": {},
   "source": [
    "![Screen%20Shot%202018-08-22%20at%2011.04.42.png](https://github.com/jjasche/blackbody/blob/martina/Screen%20Shot%202018-08-22%20at%2011.04.42.png)"
   ]
  },
  {
   "cell_type": "markdown",
   "metadata": {},
   "source": [
    "From the figure, we can identify 3 main regions (or evolutionary stages) of the HR diagram:\n",
    "\n",
    "- The main sequence stretching from the upper left (hot, luminous stars) to the bottom right (cool, faint stars) dominates the HR diagram. It is here that stars spend about 90% of their lives burning hydrogen into helium in their cores. Main sequence stars have a luminosity class labelled V.\n",
    "\n",
    "- Red giant and supergiant stars (luminosity classes I through III) occupy the regions above the main sequence. They have low surface temperatures and high luminosities. According to the Stefan-Boltzmann law that we have discovered above, means giant and supergiant stars also have large radii. Stars enter this evolutionary stage once they have exhausted the hydrogen fuel in their cores and have started to burn helium and other heavier elements.\n",
    "\n",
    "- White dwarf stars (luminosity class D) are the final evolutionary stage of low to intermediate mass stars, and are found in the bottom left of the HR diagram. These stars are very hot but have low luminosities due to their small size.\n",
    "\n",
    "The Sun is found on the main sequence with a luminosity of 1 and a temperature of around 5,400 Kelvin.\n",
    "Astronomers generally use the HR diagram to either summarise the evolution of stars, or to investigate the properties of a collection of stars. In particular, by plotting a HR diagram for either a globular or open cluster of stars, astronomers can estimate the age of the cluster from where stars appear to turnoff the main sequence (see the entry on main sequence for how this works).\n",
    "\n",
    "[text adapted from Swinburne University of Technology](http://astronomy.swin.edu.au/cosmos/h/hertzsprung-russell+diagram)\n",
    "\n",
    "also see ESA resources [here](http://sci.esa.int/education/35774-stellar-radiation-stellar-types/?fbodylongid=1703)\n",
    "[and here](https://www.cosmos.esa.int/web/cesar/the-hertzsprung-russell-diagram!)."
   ]
  },
  {
   "cell_type": "code",
   "execution_count": null,
   "metadata": {
    "collapsed": true
   },
   "outputs": [],
   "source": []
  }
 ],
 "metadata": {
  "kernelspec": {
   "display_name": "Python 2",
   "language": "python",
   "name": "python2"
  },
  "language_info": {
   "codemirror_mode": {
    "name": "ipython",
    "version": 3
   },
   "file_extension": ".py",
   "mimetype": "text/x-python",
   "name": "python",
   "nbconvert_exporter": "python",
   "pygments_lexer": "ipython3",
   "version": "3.6.6"
  }
 },
 "nbformat": 4,
 "nbformat_minor": 2
}
