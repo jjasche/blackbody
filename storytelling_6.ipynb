{
 "cells": [
  {
   "cell_type": "markdown",
   "metadata": {},
   "source": [
    "Our detective has just learned that the H-R diagram is the fundamental tool for astrophysicists to learn about the evolution of stars. Stars of different sizes and luminosities usually are at different stages of their existence. The Sun, our star, is a young-adult star. Our detective is now left with the last step of his/her research. Why the habitable zone around a star is so narrow...\n",
    "\n",
    "*Day 92*\n",
    "The Sun, center of the solar system. The luminosity emitted by the Sun is absorbed by all the celestial bodies within this system. If I equate the luminosity emitted by the Sun and the luminosity absorbed by a celestial body with temperature T at distance d from the Sun…\n",
    "\n",
    "*Day 93*\n",
    "A day has passed and I haven’t slept at all. I am burning with fever, but I feel I am very close to unravel my original mystery! Let me recap. \n",
    "- I know that the habitable zone is a tiny window\n",
    "- this window is not too close, nor too far from the central star of the solar system\n",
    "- this is because one doesn’t leave where it is either too hot or too cold\n",
    "- hot and cold is determined by the energy emitted by the central star\n",
    "- this energy depends on the temperature of the star and on its size\n",
    "- this energy is absorbed by any celestial body at a certain distance d from the star and determines the temperature T of this body\n",
    "\n",
    "Yes, yes! Everything is clear now! HAL! Give me the minimum and maximum distances of the habitable zone in the solar system! I should now be able to compute the temperatures at the boundaries of this habitable zone!\n",
    "\n",
    "`Hi there! HAL's here! The minimum distance and the maximum distance that limit the habitable zone in our solar system can be found at [Habitable Zone](habitablezone.ipynb). Please, go there! We are close to discover something really important!`\n"
   ]
  }
 ],
 "metadata": {
  "kernelspec": {
   "display_name": "Python 2",
   "language": "python",
   "name": "python2"
  },
  "language_info": {
   "codemirror_mode": {
    "name": "ipython",
    "version": 2
   },
   "file_extension": ".py",
   "mimetype": "text/x-python",
   "name": "python",
   "nbconvert_exporter": "python",
   "pygments_lexer": "ipython2",
   "version": "2.7.14"
  }
 },
 "nbformat": 4,
 "nbformat_minor": 2
}
