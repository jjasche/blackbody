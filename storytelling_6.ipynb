{
 "cells": [
  {
   "cell_type": "markdown",
   "metadata": {},
   "source": [
    "You are now very close to the end of this story. There is only one last thing that I really want you to know. It has nothing to do with my friend. At the end, you should have realised that this story is not really about finding my friend. In fact, I can quickly tell you that I succesfully found my friend, right before the last drop of fuel got burnt in my astrojet. That really kind Martian really helped me a lot by pushing my astrojet for the last 10 million km! I had fun with my friend, we ate so much good food (it turned out that the new planet where my friend's family was -- the Earth -- is so full of good food! And so many different kinds of food! Unbelievable!), and we finally concluded our D&D campaign. But I have to say that the funniest thing of everything was telling my friend the story of how I got finding Earth. My friend was so excited that, well, we decided to go to the University together and study physics! Lucky we were...just during those days, Stockholm University was organising a big outreach event, Forskarfredag and Fysikumfest, for people like us. Do you believe it? We wnet there and we liked that place so much that we decided to stay. This is how I became a student in physics and then a researcher!\n",
    "\n",
    "But anyway, my last thing to say. Back to my story. You are now facing a bizarre curve in the distance-temperature plot. HAL, my good ol' friend HAL, would tell you 'Earth is located in the middle of a habitable zone. This habitable zone spans a tiny window at a distance between d_lower and d_upper [PUT NUMBERS HERE] from the Sun.'. HAL wouldn't say much more. You have the curve, you know the distances. Tell me, which temperatures correspond to those distances? And why those temperatures are so relevant for human life?\n",
    "\n",
    "HERE WE CAN PUT CALCULATION OF THE HABITABLE ZONE\n",
    "\n",
    "Well, my new friends, this is it, the story of how I decided to become a researcher. You might think that what I learnt during my trip is simple, that the answers to my questions were trivial (liquid water...so what?). But what I really learnt, and what I am learning day by day, is that science (and, I dare to say, the quest for knowledge, whatever field you end up choosing in your life) starts when you start questioning your world. Don't take anything for granted, be curious, ask questions, study and work hard (yes, curiosity without study is not enough, I am afraid). This is how everything has been discovered that you read in this diary, and much more...an old writer from Earth used to write \"There are more things in heaven and earth, Horatio, Than are dreamt of in your philosophy.\" "
   ]
  }
 ],
 "metadata": {
  "kernelspec": {
   "display_name": "Python 2",
   "language": "python",
   "name": "python2"
  },
  "language_info": {
   "codemirror_mode": {
    "name": "ipython",
    "version": 2
   },
   "file_extension": ".py",
   "mimetype": "text/x-python",
   "name": "python",
   "nbconvert_exporter": "python",
   "pygments_lexer": "ipython2",
   "version": "2.7.14"
  }
 },
 "nbformat": 4,
 "nbformat_minor": 2
}
