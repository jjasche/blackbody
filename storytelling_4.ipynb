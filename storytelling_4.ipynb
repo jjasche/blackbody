{
 "cells": [
  {
   "cell_type": "markdown",
   "metadata": {},
   "source": [
    "Our detective has now a full list of stars and corresponding temperatures. He/she suspects that there is more to learn about this topic. Indeed, back in the days, researchers looked up to the sky, observed stars, collected data, studied those data and started to think...It is always useful to look back and refresh our memories with basic knowledge.\n",
    "\n",
    "*Day 81*\n",
    "This reminds me of something the ancient people used to study…\n",
    "HAL, set the coordinates, we are going to Alexandria. \n",
    "The old library…there I can find something useful.\n",
    "\n",
    "*Day 90*\n",
    "Here I am. Alexandria. The old people rebuilt this ancient city as it was thousands years ago. \n",
    "And they also put the famous library, with those ancient tools they used to consult. \n",
    "How did they call them? Books! So fragile…let’s see if I can find what I am looking for, a book on stellar physics…\n",
    "good grief! How did they search for a book in this mess? Where’s the search bar? \n",
    "Where’s a vocal assistant? Should I shout ‘ctrl+F’???\n",
    "\n",
    "*Day 90, late night*\n",
    "Finally…my book [some ref here?]. I am tired, I have been walking through this library since early morning, but I have to read it now, I am too curious… HAL, look how old this book is! What a bizarre sound when I move these sheets around…\n",
    "\n",
    "`Hi there! HAL's here! Please, read [Stefan-Boltzmann](hr.ipynb) and learn how the temperature of a star determines how much energy the star emits. Be careful, you might think you are dealing with extremely large objects such as stars, but the physics you are going to unveil is quantum physics...`"
   ]
  }
 ],
 "metadata": {
  "kernelspec": {
   "display_name": "Python 2",
   "language": "python",
   "name": "python2"
  },
  "language_info": {
   "codemirror_mode": {
    "name": "ipython",
    "version": 2
   },
   "file_extension": ".py",
   "mimetype": "text/x-python",
   "name": "python",
   "nbconvert_exporter": "python",
   "pygments_lexer": "ipython2",
   "version": "2.7.14"
  }
 },
 "nbformat": 4,
 "nbformat_minor": 2
}
