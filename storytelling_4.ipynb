{
 "cells": [
  {
   "cell_type": "markdown",
   "metadata": {},
   "source": [
    "You might have not realised it yet. Just take a few seconds to think how powerful this blackbody stuff is. I was really impressed at that time. I started from a bunch of spectra from warm iron plates and ended up measuring the temperature of stars! Cool, isn't it? But hold on, because the coolest part has still to come. Remember I had just worked out the temperature of three different classes of stars simply by measuring their thermal spectra and looking at what wavelength these spectra where at their maximum, then using this information in the Wien's displacement law. 'Qfwfq, why are you so frustrated?' HAL told me. And indeed I was frustrated. You know, I was a young adult, eager to find my friend, and I was trying to do my best to advance in knowledge. It already costed me some effort to achieve those results, but I knew that more work was needed (many years ago, I learned that this is true in science. You have to work hard to achieve your results. Doesn't mean you have to give up. Just keep going. Sometimes you might have to adjust your path, reconsider your assumptions, thorw away some work and start from scratch. It happens. Errors and mistakes are also part of the game.). 'Just focus, Qfwfq. Why don't you search the literature? You know, when you are a researcher, learning from past studies could be as important as doing new things by yourself.'. Of course, HAL was right. 'HAL, could you please open that book [PUT REF HERE?] for me?'. It was a very nice book, and I learnt more details about something they used to teach me at school: the energy emitted by a star is proportional to some power of its temperature and of its radius. If you don't know it, I suggest you read about the Stephan-Boltzmann law! And I'll tell you a secret: you might think that this law applies to these giant objects -- stars -- in the galaxy, but this law is deeply rooted in quantum physics...Would you believe it? You can use a result based on the physics of the smallest things in our Universe to classify the largest objects in our galaxies! Yes, classify I said, because you can do the following: once you know the temperature of a star and the luminosity of a star (you can measure it with some appropriate instrumental tools), you can draw it as a point in the so-called Hertzprung-Russel diagram. 'The HR diagram', HAL told me, 'has the temperature on the x-axis and the luminosity on the y-axis. I can tell you the luminosity of the stars you measured before. Put those stars in the diagram and look. Stars occupy only specific regions of that diagram.' And, you know? From the Stephan-Boltzmann law, it isn't that hard to compute the radius of the star, once you know their temperature and luminosity...\n",
    "\n",
    "HERE WE CAN PUT A SCIENCE BOX ON SB LAW (or in the main text, right after the SB law is mentioned in the first instance)\n",
    "HERE THEY CAN BE SENT TO THE HR DIAGRAM NOTEBOOK. THERE, WE CAN PUT A SCIENCE BOX ON HR DIAGRAM"
   ]
  }
 ],
 "metadata": {
  "kernelspec": {
   "display_name": "Python 2",
   "language": "python",
   "name": "python2"
  },
  "language_info": {
   "codemirror_mode": {
    "name": "ipython",
    "version": 2
   },
   "file_extension": ".py",
   "mimetype": "text/x-python",
   "name": "python",
   "nbconvert_exporter": "python",
   "pygments_lexer": "ipython2",
   "version": "2.7.14"
  }
 },
 "nbformat": 4,
 "nbformat_minor": 2
}
