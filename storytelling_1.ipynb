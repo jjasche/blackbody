{
 "cells": [
  {
   "cell_type": "markdown",
   "metadata": {},
   "source": [
    "# Galaxy chronicles\n",
    "\n",
    "*Day 57 of year 46750*\n",
    "\n",
    "This is already the solar system number 567 that I visited since the beginning of my journey. I have to report that I have always found the same situation. Life exists around stars, but it only exists within a very small window. The window is not always the same, it changes in each system. Why?\n",
    "\n",
    "*Day 68 of year 46750*\n",
    "\n",
    "I keep thinking of this problem. I think I advanced a little bit. Where the window sits depends on the star at the centre of the solar system.\n",
    "\n",
    "*Day 69*\n",
    "\n",
    "Yes, it should be like that…life exists if it is not too hot and not too cold! Yes!\n",
    "\n",
    "*Day 69, late night*\n",
    "\n",
    "Yes, but how much is too hot and how much is too cold…?"
   ]
  }
 ],
 "metadata": {
  "kernelspec": {
   "display_name": "Python 2",
   "language": "python",
   "name": "python2"
  },
  "language_info": {
   "codemirror_mode": {
    "name": "ipython",
    "version": 2
   },
   "file_extension": ".py",
   "mimetype": "text/x-python",
   "name": "python",
   "nbconvert_exporter": "python",
   "pygments_lexer": "ipython2",
   "version": "2.7.14"
  }
 },
 "nbformat": 4,
 "nbformat_minor": 2
}
