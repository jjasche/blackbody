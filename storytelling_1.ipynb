Galaxy chronicles

Day 57 of year 46750

This is already the solar system number 567 that I visited since the beginning of my journey. I have to report that I have always found the same situation. Life exists around stars, but it only exists within a very small window. The window is not always the same, it changes in each system. Why?

Day 68 of year 46750

I keep thinking of this problem. I think I advanced a little bit. Where the window sits depends on the star at the centre of the solar system.

Day 69

Yes, it should be like that…life exists if it is not too hot and not too cold! Yes!

Day 69, late night

Yes, but how much is too hot and how much is too cold…?
