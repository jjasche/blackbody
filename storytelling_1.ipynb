{
 "cells": [
  {
   "cell_type": "markdown",
   "metadata": {},
   "source": [
    "# Galaxy chronicles\n",
    "\n",
    "This is an extract from the diary of a space detective. He/she is facing a serious question: what are the conditions for life to appear in a stellar system? You will follow him/her and arrive to the solution guided step by step by his/her comments left in this diary. Like you, he/she has a companion, HAL. Research in science is a cooperative task!\n",
    "\n",
    "Grab your paper-and-pencil, be prepared to learn how challengin and wonderful science is and...HAVE FUN!!!\n"
   ]
  },
  {
   "cell_type": "markdown",
   "metadata": {},
   "source": [
    "*Day 57 of year 46750*\n",
    "\n",
    "This is already the solar system number 567 that I visited since the beginning of my journey. I have to report that I have always found the same situation. Life exists around stars, but it only exists within a very small window. The window is not always the same, it changes in each system. Why?\n",
    "\n",
    "*Day 68 of year 46750*\n",
    "\n",
    "I keep thinking of this problem. I think I advanced a little bit. Where the window sits depends on the star at the centre of the solar system.\n",
    "\n",
    "*Day 69*\n",
    "\n",
    "Yes, it should be like that…life exists if it is not too hot and not too cold! Yes!\n",
    "\n",
    "*Day 69, late night*\n",
    "\n",
    "Yes, but how much is too hot and how much is too cold…?\n",
    "\n",
    "*Day 70*\n",
    "\n",
    "Ok, HAL! Search the universal web for me and tell me where I can find useful information to solve my problem.\n",
    "...\n",
    "`Hi there! HAL's here! Please, go to * [Black Body radiation and the law of Planck](planckslaw.ipynb) to find useful information and solve your problem.`"
   ]
  }
 ],
 "metadata": {
  "kernelspec": {
   "display_name": "Python 2",
   "language": "python",
   "name": "python2"
  },
  "language_info": {
   "codemirror_mode": {
    "name": "ipython",
    "version": 2
   },
   "file_extension": ".py",
   "mimetype": "text/x-python",
   "name": "python",
   "nbconvert_exporter": "python",
   "pygments_lexer": "ipython2",
   "version": "2.7.14"
  }
 },
 "nbformat": 4,
 "nbformat_minor": 2
}
