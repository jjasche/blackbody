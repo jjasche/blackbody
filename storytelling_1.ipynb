{
 "cells": [
  {
   "cell_type": "markdown",
   "metadata": {},
   "source": [
    "# Galaxy chronicles\n",
    "\n",
    "Hi, I am Qfwfq and I am a reseracher in Physics at the Imperial College of Earthsea. I am proud of it! Actually, I have never really thought that I could become a researcher. When I was younger, so much younger than today, I thought I could be a dancer, or a volley-player! It was only after my long trip to that galaxy so far away from home that I realised 'mmmh, that's actually fun to be a researcher!'. Let me tell you how everything began...As I was saying, I was young. I had a best friend from my primary school who moved to that galaxy far away...how it is called? Something with milk, I believe...anyway, my best friend moved there and it was heart-breaking! Oh dear, how much I cried! So, I decided I had to go there and see my friend again. We didn't even finish to play our last campaign of D&D! So, I packed my stuff, I sneaked out of home (oh, my parents are still mad at me every time I tell this story!) and I went to the astro station. I took the astrotrain number 42. Of course, you may say, that's the astrotrain everybody would take, if they wanted to go far away. I sit down, I plugged my earphones, I started listening to random stuff (I swear! It was only by chance that the radio was airing Stairway to Heaven!), I relaxed...I think I felt asleep. it was only when we crashed that little asteroid that I woke up. We were already a couple thousands UA from home. Not that far, but you know, I had never been that far from home. Never ever! I jumped off the astro. We were going to be stucked for a while (you know how long it takes to fill those astro accident forms for the insurance companies). I started thinking 'well, my dear Qfwfq, if you only take one single step, that is the farthest you have been from home'. I took the step, of course. What else? 'Well, my dear Qfwfq, if you take another single step, that will be the farthest you have been from home'. I took the step. 'Well, my dear Qfwfq, if you...'. Well! You got the point. I walked a fairm amount of steps. I walked until the next stop. Then until the next. Then the next-to-the-next. Then I was hungry and I stopped. It was only when I was eating eagerly my sandwich of crunchy shiny bugs and purple seawheels that I realised 'Qfwfq! You don't know where to go!'. It was true, I hadn't really thought about this little aspect. I didn't know exactly where my friend was. The only thing I knew was that my friend's family moved to this milky-something galaxy (luckly enough, they teach you at school that the milky-something is in 98-th quadrant of our portion of the Universe) and that the stellar system they chose had only one star (would you believe it? Only one star!) called Sun. You know, those were sad days. We didn't have these fantastic 90-th dimentional maps of the entire Universe that we have now. We could just search for basic information on the univernet. With the last drops of charge my kickass-phone had, I learnt that the star I had to look for was a main sequence star with a certain radius. Then my phone went off. Ok, Qfwfq, I said, let's go search for this star in the milky-something. In that moment, the astrotrain arrived. \n",
    "\n",
    "You may wonder how I could find a single star in an unknown galaxy with no information other than those I had. Well, I had good teachers and I worked hard at school. I remember that I could identify a star by knowing its temperature, radius and luminosity. So the plan was made. I had to travel around the galaxy (I just hoped down there they had the same technology we have on Tatoine), classify stars and find the one I wanted. I was smiling at this plan, when we arrived at the final destination of astro 42. The big astroport at the end of the Universe! Do you know that they serve such good fish at the restaurant there? By the way, there I could rent a private astrojet and cover the distance between the astroport and my milky-galaxy. The only thing is that I was already so tired to be alone! All this thinking...if only I had a colleague to think with! I was just embracing that sad attitude when I entered my astrojet, that a funny little voice played out of the control station inside my astrojet. 'Hi there! This is HAL! I will be your companion during your journey.'. HAL! Oh, it was so fun to travel with HAL! HAL had an infinite database that could be accessed! It was like having all the books of the Universe accessible! But there must have been some issues with the hardware, becasue HAL didn't answer all my questions. I could ask 'HAL! How fast this astrojet goes?' and HAL could tell me that. But when I asked 'HAL! When are we supposed to arrive at the milky galaxy?', then HAL replied 'We are going with a constant speed and we are at 870 light-year from the galaxy. I don't have to tell you the rest.'. So I had to work out the answer by myself. Well, not entirely true. I could still discuss with HAL. 'ok, so this is the distance, then I know the speed...' 'Yes, the speed! Tell me, what are the units of the speed?' 'distance/time...well! I got it! Thanks HAL!'. A few years later, I would have learned that science is a cooperational effort. HAL was my first colleague!\n",
    "\n",
    "Anyway, now I keep telling 'my dear HAL here, my dear HAL there...'. But would you believe it once I tell you the very first joke HAL made me? Let me tell you that...\n",
    "\n",
    "NOW WE SHOULD LINK TO WIEN'S DISPLACEMENT"
   ]
  }
 ],
 "metadata": {
  "kernelspec": {
   "display_name": "Python 2",
   "language": "python",
   "name": "python2"
  },
  "language_info": {
   "codemirror_mode": {
    "name": "ipython",
    "version": 2
   },
   "file_extension": ".py",
   "mimetype": "text/x-python",
   "name": "python",
   "nbconvert_exporter": "python",
   "pygments_lexer": "ipython2",
   "version": "2.7.14"
  }
 },
 "nbformat": 4,
 "nbformat_minor": 2
}
