{
 "cells": [
  {
   "cell_type": "markdown",
   "metadata": {},
   "source": [
    "# Interlude: meet Stefan and Boltzmann\n",
    "\n",
    "The HR diagram...that thing really blows up my mind! It is so simple...you have just to measure some spectra, observe the magnitude (another way to define the luminosity of a star) and draw a point in the HR plane. This is called data taking. Then it comes the interpretation of your data. Why do these points are not distributed homogeneously in this plot? Why do they cluster in a few regions? And the answer is really awesome! This apparently simple plot is telling you about the evolution of the stars! I was so thrilled at that point that I almost forgot I was doing all that to find my friend! Well, I have to say I wasn't thinking that much of my friend since a long time (my poor friend, just forgive me!). I didn't know it already, but I started thinking in the back of my mind that I could become a researcher! Although volleyball was still so appealing...but anyway, it would have happened only a few years after those events that I had to decide what to do as a grown-up. Now, back to my story! Where was I? oh, yes, I had just learnt about the HR diagram. It was clear at that point which class of stars I had to look for in the Milky Way. I was looking for main sequence stars, with a radius 7x10^8m large, a temperature of ~6000K, and a luminosity of ~4x10^26W. That really narrowed my search. I haven't realised that, but it was already almost a year that I was wondering around the 98-th quadrant. So lucky that we had those mini food portions that you could inflate with only a drop of water! a few months ago I was reading a book about the pioneers of space missions and they couldn't stand long-distance travels. Would you believe it? It was already a challenge to cover the distance between a planet and its moon. You would never believe that it took so long for them to plan a trip to a different planet only ~55 million km away? And I was travelling from a star system to another...and I even came from a different galaxy! \n",
    "\n",
    "By the way, HAL helped me again. HAL found a very detailed list of stars in the Milky Way with properties very similar to the star I was looking for. It's done, you might think. Well...no, not yet. You know, each star can host a stellar system, with multiple planets orbiting around the star. I honestly couldn't visit all those planets individually! It would have taken too long. What is more, I was quickly running out of fuel and in that Milky Way there were only a few astrofuel stations with the fuel needed for my astrojet. I had to narrow down the list a little bit more. It occured to me that not all those planets could host life with properties I was looking for. Just think about it. Those huge warm 400m long can only live on planets very similar to Arrakis. Similarly, humans can only live on planets with some specific properties. Remember my detector, given to me when I was born? I was told since I was a little child that I cannot be either too close or too far from my stars. The reason is that we all need energy. This energy is provided by stars. The energy taken by a planet -- and you again express this energy in terms of the planet's temperature, according to the SB law -- is identical to the energy provided by the star, and it becomes fainter the farther we are from stars. This very intuitive law (just think of it, the same happens when you are in the proximity of a fire. If you are too close, you risk to be burnt. If you are too far, you will never warm up.) has a very simple formulation, although the physics leading to it is very deep. With a little help from my friend HAL, I was able to work it out and I am reporting this law below, for your convenience. If you are like I was at that time, take some time to go through the physics of this equation. It is really fun, I promise!\n",
    "\n",
    "HERE WE CAN PUT A SCIENCE BOX ABOUT HOW TO DERIVE THE EQUATION\n",
    "\n",
    "This very simple law says that the temperature of a planet is proportional to (take a depp breath!) the inverse of the square root of the distance to the star. It is more complicated to say it in words than to read it from an equation. Just look at the equation below, then. What did I do next? Well, I draw anothr graph. For different distances, I computed the corresponding temperature and I draw a line in the distance-Temperature plot representing that law.\n",
    "\n",
    "Go to [Chapter 5](habitable_zone.ipynb)."
   ]
  },
  {
   "cell_type": "markdown",
   "metadata": {},
   "source": [
    "# Summary: What have we learned?\n",
    "\n",
    "## Energy conservation and the habitable zone"
   ]
  }
 ],
 "metadata": {
  "kernelspec": {
   "display_name": "Python 2",
   "language": "python",
   "name": "python2"
  },
  "language_info": {
   "codemirror_mode": {
    "name": "ipython",
    "version": 2
   },
   "file_extension": ".py",
   "mimetype": "text/x-python",
   "name": "python",
   "nbconvert_exporter": "python",
   "pygments_lexer": "ipython2",
   "version": "2.7.14"
  }
 },
 "nbformat": 4,
 "nbformat_minor": 2
}
