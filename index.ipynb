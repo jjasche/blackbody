{
 "cells": [
  {
   "cell_type": "markdown",
   "metadata": {},
   "source": [
    "# Black body radiation across the Galaxy: from quantum physics to exoplanets\n",
    "\n",
    "In 1901 Max Planck found an astonishing description for the phenomenon of the thermal radiation emitted from warm objects. This so-called blackbody radiation could only be explained by assuming that energy is partitioned into discrete quanta at the microscopic level. Though derived to explain the miraculous world of quantum physics at the smallest scales, Planck's radiation law also has pronounced implication for the study of the largest objects in our Galaxy, such as stars and planets. \n",
    "\n",
    "In this workshop, you will take the role of a researcher and analyse the light of stars thousands of light years away. You will learn how Planck's law turns into remarkably simple equations helping us to understand astronomical observations. You will determine the properties of stars and trace back their evolution. This will eventually lead you to investigate the consequences for the existence of life by determining the habitable zone in stellar systems. \n",
    "\n",
    "The workshop is interactive, and you may use any preferred means to derive your results, as researchers do. This involves solving problems with paper and pencil or using numerical scripting."
   ]
  },
  {
   "cell_type": "markdown",
   "metadata": {},
   "source": [
    "## Table of Contents\n",
    "\n",
    "* [Black Body radiation and the law of Planck](planckslaw.ipynb)\n",
    "* [Wien's displacement law](wien_displacement.ipynb)\n",
    "* [The temperature of stars](Tstars.ipynb)\n",
    "* [The Hertzsprung-Russell diagram](hr.ipynb)\n",
    "* [The habitable zone around stars](habitable_zone.ipynb)"
   ]
  },
  {
   "cell_type": "markdown",
   "metadata": {},
   "source": [
    "## Contributors\n",
    "\n",
    "* Jens Jasche (author)\n",
    "* Martina Gerbino (author)"
   ]
  }
 ],
 "metadata": {
  "anaconda-cloud": {},
  "kernelspec": {
   "display_name": "Python 2",
   "language": "python",
   "name": "python2"
  },
  "language_info": {
   "codemirror_mode": {
    "name": "ipython",
    "version": 3
   },
   "file_extension": ".py",
   "mimetype": "text/x-python",
   "name": "python",
   "nbconvert_exporter": "python",
   "pygments_lexer": "ipython3",
   "version": "3.6.6"
  }
 },
 "nbformat": 4,
 "nbformat_minor": 1
}
